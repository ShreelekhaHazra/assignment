{
 "cells": [
  {
   "cell_type": "code",
   "execution_count": 1,
   "id": "bd22805e",
   "metadata": {},
   "outputs": [
    {
     "data": {
      "text/plain": [
       "'Q1. Use a for loop to iterate over an array.\\nUse a for loop when you know the loop should execute n times.\\nUse a while loop for reading a file into a variable.\\nUse a while loop when asking for user input.\\nUse a while loop when the increment value is nonstandard.'"
      ]
     },
     "execution_count": 1,
     "metadata": {},
     "output_type": "execute_result"
    }
   ],
   "source": [
    "'''Q1. Use a for loop to iterate over an array.\n",
    "Use a for loop when you know the loop should execute n times.\n",
    "Use a while loop for reading a file into a variable.\n",
    "Use a while loop when asking for user input.\n",
    "Use a while loop when the increment value is nonstandard.'''"
   ]
  },
  {
   "cell_type": "code",
   "execution_count": 2,
   "id": "0cf37a8c",
   "metadata": {},
   "outputs": [
    {
     "name": "stdout",
     "output_type": "stream",
     "text": [
      "0\n",
      "1\n",
      "1\n",
      "2\n",
      "3\n",
      "5\n",
      "8\n",
      "13\n",
      "21\n",
      "34\n"
     ]
    }
   ],
   "source": [
    "#for\n",
    "a,b=0,1\n",
    "for i in range(10):\n",
    "    print(a)\n",
    "    c=a+b\n",
    "    a=b\n",
    "    b=c"
   ]
  },
  {
   "cell_type": "code",
   "execution_count": 3,
   "id": "aac18702",
   "metadata": {},
   "outputs": [
    {
     "name": "stdout",
     "output_type": "stream",
     "text": [
      "enter the number you are looking for  10\n",
      "0\n",
      "1\n",
      "1\n",
      "2\n",
      "3\n",
      "5\n",
      "8\n",
      "13\n",
      "21\n",
      "34\n"
     ]
    }
   ],
   "source": [
    "#while\n",
    "n=int(input(\"enter the number you are looking for  \"))\n",
    "a,b=0,1\n",
    "counter=0\n",
    "while counter<n:\n",
    "    print(a)\n",
    "    c=a+b\n",
    "    a=b\n",
    "    b=c\n",
    "    counter=counter+1"
   ]
  },
  {
   "cell_type": "code",
   "execution_count": 25,
   "id": "1e69c182",
   "metadata": {},
   "outputs": [
    {
     "name": "stdout",
     "output_type": "stream",
     "text": [
      "55\n"
     ]
    }
   ],
   "source": [
    "#Q2. Write a python program to print the sum and product of the first 10 natural numbers\n",
    "#using for and while loop.\n",
    "#for:\n",
    "sum=0\n",
    "for i in range(1,11):\n",
    "    sum=sum+i\n",
    "    i=i+1\n",
    "print(sum)    "
   ]
  },
  {
   "cell_type": "code",
   "execution_count": 22,
   "id": "4bcbad3b",
   "metadata": {},
   "outputs": [
    {
     "name": "stdout",
     "output_type": "stream",
     "text": [
      "enter a number: 10\n",
      "The sum is:  55\n"
     ]
    }
   ],
   "source": [
    "#while\n",
    "n = int(input(\"enter a number: \"))\n",
    "i = 1\n",
    "sum = 0\n",
    "while (i <= n):\n",
    "    sum = sum + i\n",
    "    i = i + 1\n",
    "print(\"The sum is: \", sum)\n"
   ]
  },
  {
   "cell_type": "code",
   "execution_count": 34,
   "id": "4f2e44a7",
   "metadata": {},
   "outputs": [
    {
     "name": "stdout",
     "output_type": "stream",
     "text": [
      "Enter the units of electricity consumed in a month : 310\n",
      "the electricity bill will be :  2250\n"
     ]
    }
   ],
   "source": [
    "#Q3.\n",
    "n=int(input(\"Enter the units of electricity consumed in a month : \"))\n",
    "\n",
    "if n<=100:\n",
    "    bill=0\n",
    "    bill=n*4.5\n",
    "\n",
    "elif n>100 and n<=200:\n",
    "    bill=450+(n-100)*6\n",
    "    \n",
    "elif n>200 and n<=300:\n",
    "    bill=1050+(n-200)*10\n",
    "else:    \n",
    "    bill=2050+(n-300)*20\n",
    "    \n",
    "print(\"the electricity bill will be : \",bill)\n",
    "    "
   ]
  },
  {
   "cell_type": "code",
   "execution_count": 69,
   "id": "c61d4910",
   "metadata": {},
   "outputs": [
    {
     "name": "stdout",
     "output_type": "stream",
     "text": [
      "[4, 5, 8, 10, 12, 15, 16, 20, 24, 25, 28, 30, 32, 35, 36, 40, 44, 45, 48, 50, 52, 55, 56, 60, 64, 65, 68, 70, 72, 75, 76, 80, 84, 85, 88, 90, 92, 95, 96, 100]\n"
     ]
    }
   ],
   "source": [
    "#Q4.\n",
    "l=[]\n",
    "n=100\n",
    "i=1\n",
    "while i<=n:\n",
    "    if(i%4==0 or i%5==0):\n",
    "        l.append(i)\n",
    "    i=i+1\n",
    "print(l)"
   ]
  },
  {
   "cell_type": "code",
   "execution_count": 74,
   "id": "2baaa205",
   "metadata": {},
   "outputs": [
    {
     "name": "stdout",
     "output_type": "stream",
     "text": [
      "number of vowels given in the sentence is 12\n"
     ]
    }
   ],
   "source": [
    "#Q5.\n",
    "s1=\"I want to become a data scientist\"\n",
    "s3=s1.lower()\n",
    "\n",
    "count=0\n",
    "l=['a','e','i','o','u']\n",
    "for s2 in s3:\n",
    "    if s2 in l:\n",
    "        count=count+1\n",
    "print(\"number of vowels given in the sentence is\",count)        "
   ]
  },
  {
   "cell_type": "code",
   "execution_count": null,
   "id": "ada3dd8b",
   "metadata": {},
   "outputs": [],
   "source": []
  }
 ],
 "metadata": {
  "kernelspec": {
   "display_name": "Python 3 (ipykernel)",
   "language": "python",
   "name": "python3"
  },
  "language_info": {
   "codemirror_mode": {
    "name": "ipython",
    "version": 3
   },
   "file_extension": ".py",
   "mimetype": "text/x-python",
   "name": "python",
   "nbconvert_exporter": "python",
   "pygments_lexer": "ipython3",
   "version": "3.10.9"
  }
 },
 "nbformat": 4,
 "nbformat_minor": 5
}
